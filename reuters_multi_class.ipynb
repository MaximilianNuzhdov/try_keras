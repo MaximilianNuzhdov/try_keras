{
  "nbformat": 4,
  "nbformat_minor": 0,
  "metadata": {
    "colab": {
      "name": "reuters_multi_class.ipynb",
      "provenance": [],
      "authorship_tag": "ABX9TyMDh3AAo1ZAoULO4sxL7Pb/"
    },
    "kernelspec": {
      "name": "python3",
      "display_name": "Python 3"
    },
    "language_info": {
      "name": "python"
    }
  },
  "cells": [
    {
      "cell_type": "code",
      "metadata": {
        "id": "XuUpRpduO9fW"
      },
      "source": [
        "import numpy as np\n",
        "\n",
        "from keras import models\n",
        "from keras import layers \n",
        "\n",
        "from keras import optimizers\n",
        "from keras import losses\n",
        "from keras import metrics\n",
        "\n",
        "import matplotlib\n",
        "import matplotlib.pyplot as plt\n",
        "\n",
        "from keras.utils.np_utils import to_categorical"
      ],
      "execution_count": 7,
      "outputs": []
    },
    {
      "cell_type": "code",
      "metadata": {
        "colab": {
          "base_uri": "https://localhost:8080/"
        },
        "id": "ujjJbnkqPIIz",
        "outputId": "922078d3-c758-49fd-bdb2-e0f53bd601a3"
      },
      "source": [
        "from keras.datasets import reuters\n",
        "\n",
        "(train_data, train_labels), (test_data, test_labels) = reuters.load_data(num_words = 10000)\n"
      ],
      "execution_count": 11,
      "outputs": [
        {
          "output_type": "stream",
          "text": [
            "/usr/local/lib/python3.7/dist-packages/tensorflow/python/keras/datasets/reuters.py:148: VisibleDeprecationWarning: Creating an ndarray from ragged nested sequences (which is a list-or-tuple of lists-or-tuples-or ndarrays with different lengths or shapes) is deprecated. If you meant to do this, you must specify 'dtype=object' when creating the ndarray\n",
            "  x_train, y_train = np.array(xs[:idx]), np.array(labels[:idx])\n",
            "/usr/local/lib/python3.7/dist-packages/tensorflow/python/keras/datasets/reuters.py:149: VisibleDeprecationWarning: Creating an ndarray from ragged nested sequences (which is a list-or-tuple of lists-or-tuples-or ndarrays with different lengths or shapes) is deprecated. If you meant to do this, you must specify 'dtype=object' when creating the ndarray\n",
            "  x_test, y_test = np.array(xs[idx:]), np.array(labels[idx:])\n"
          ],
          "name": "stderr"
        }
      ]
    },
    {
      "cell_type": "code",
      "metadata": {
        "colab": {
          "base_uri": "https://localhost:8080/"
        },
        "id": "3PizuSpiPRR0",
        "outputId": "4fe7c02c-4303-4190-fdb1-26603d5530cb"
      },
      "source": [
        "word_index = reuters.get_word_index()\n",
        "reverse_word_index = dict(\n",
        "    [(value, key) for (key, value) in word_index.items()]\n",
        ")\n",
        "decoded_news = ' '.join(\n",
        "    [reverse_word_index.get(i-3, '?') for i in train_data[0]]\n",
        ")\n",
        "print (decoded_review)"
      ],
      "execution_count": 5,
      "outputs": [
        {
          "output_type": "stream",
          "text": [
            "Downloading data from https://storage.googleapis.com/tensorflow/tf-keras-datasets/reuters_word_index.json\n",
            "557056/550378 [==============================] - 0s 0us/step\n",
            "? ? ? said as a result of its december acquisition of space co it expects earnings per share in 1987 of 1 15 to 1 30 dlrs per share up from 70 cts in 1986 the company said pretax net should rise to nine to 10 mln dlrs from six mln dlrs in 1986 and rental operation revenues to 19 to 22 mln dlrs from 12 5 mln dlrs it said cash flow per share this year should be 2 50 to three dlrs reuter 3\n"
          ],
          "name": "stdout"
        }
      ]
    },
    {
      "cell_type": "code",
      "metadata": {
        "id": "-ZY-uvl1Ptgg"
      },
      "source": [
        "def vectorize_sequences (sequences, dim = 10000):\n",
        "  results = np.zeros((len(sequences), dim))\n",
        "  for i, seq in enumerate (sequences):\n",
        "    results[i, seq] = 1\n",
        "  return results\n"
      ],
      "execution_count": 6,
      "outputs": []
    },
    {
      "cell_type": "code",
      "metadata": {
        "id": "LjPUs2H3Qc6z"
      },
      "source": [
        "x_train = vectorize_sequences(train_data)\n",
        "x_test = vectorize_sequences (test_data)\n",
        "\n",
        "y_train = to_categorical(train_labels)\n",
        "y_test = to_categorical(test_labels)"
      ],
      "execution_count": 12,
      "outputs": []
    },
    {
      "cell_type": "code",
      "metadata": {
        "id": "Zo-6b1RNRmx-"
      },
      "source": [
        "x_val = x_train[:1000]\n",
        "y_val = y_train[:1000]\n",
        "\n",
        "partial_x_train = x_train[1000:]\n",
        "partial_y_train = y_train[1000:]"
      ],
      "execution_count": 13,
      "outputs": []
    },
    {
      "cell_type": "code",
      "metadata": {
        "colab": {
          "base_uri": "https://localhost:8080/"
        },
        "id": "HrFlPt4tRu7Y",
        "outputId": "b360d47f-de60-4067-af20-6b94fcc34089"
      },
      "source": [
        "model = models.Sequential()\n",
        "model.add(layers.Dense(64, activation='relu', input_shape = (10000,)))\n",
        "model.add(layers.Dense(128, activation='relu'))\n",
        "model.add(layers.Dense(64, activation='relu'))\n",
        "model.add(layers.Dense(46, activation='softmax'))\n",
        "\n",
        "model.summary()\n",
        "\n"
      ],
      "execution_count": 30,
      "outputs": [
        {
          "output_type": "stream",
          "text": [
            "Model: \"sequential_2\"\n",
            "_________________________________________________________________\n",
            "Layer (type)                 Output Shape              Param #   \n",
            "=================================================================\n",
            "dense_8 (Dense)              (None, 64)                640064    \n",
            "_________________________________________________________________\n",
            "dense_9 (Dense)              (None, 128)               8320      \n",
            "_________________________________________________________________\n",
            "dense_10 (Dense)             (None, 64)                8256      \n",
            "_________________________________________________________________\n",
            "dense_11 (Dense)             (None, 46)                2990      \n",
            "=================================================================\n",
            "Total params: 659,630\n",
            "Trainable params: 659,630\n",
            "Non-trainable params: 0\n",
            "_________________________________________________________________\n"
          ],
          "name": "stdout"
        }
      ]
    },
    {
      "cell_type": "code",
      "metadata": {
        "id": "_m7MQVwOR9yu"
      },
      "source": [
        "model.compile(optimizer='rmsprop', \n",
        "              loss='categorical_crossentropy', \n",
        "              metrics=['accuracy']\n",
        "              )"
      ],
      "execution_count": 31,
      "outputs": []
    },
    {
      "cell_type": "code",
      "metadata": {
        "colab": {
          "base_uri": "https://localhost:8080/"
        },
        "id": "bCQhAO3TSHYG",
        "outputId": "27b0dde8-edac-4340-94de-490dffc91cd3"
      },
      "source": [
        "history = model.fit(partial_x_train,\n",
        "                    partial_y_train,\n",
        "                    epochs = 20,\n",
        "                    batch_size = 256,\n",
        "                    validation_data = (x_val, y_val)\n",
        "                    )"
      ],
      "execution_count": 32,
      "outputs": [
        {
          "output_type": "stream",
          "text": [
            "Epoch 1/20\n",
            "32/32 [==============================] - 2s 35ms/step - loss: 2.7377 - accuracy: 0.4396 - val_loss: 1.3549 - val_accuracy: 0.6820\n",
            "Epoch 2/20\n",
            "32/32 [==============================] - 1s 29ms/step - loss: 1.1894 - accuracy: 0.7254 - val_loss: 1.1755 - val_accuracy: 0.7190\n",
            "Epoch 3/20\n",
            "32/32 [==============================] - 1s 29ms/step - loss: 0.8395 - accuracy: 0.8065 - val_loss: 0.9920 - val_accuracy: 0.7780\n",
            "Epoch 4/20\n",
            "32/32 [==============================] - 1s 30ms/step - loss: 0.5888 - accuracy: 0.8752 - val_loss: 0.9605 - val_accuracy: 0.7940\n",
            "Epoch 5/20\n",
            "32/32 [==============================] - 1s 28ms/step - loss: 0.4197 - accuracy: 0.9092 - val_loss: 0.9164 - val_accuracy: 0.8020\n",
            "Epoch 6/20\n",
            "32/32 [==============================] - 1s 29ms/step - loss: 0.3261 - accuracy: 0.9253 - val_loss: 0.9811 - val_accuracy: 0.7980\n",
            "Epoch 7/20\n",
            "32/32 [==============================] - 1s 29ms/step - loss: 0.2306 - accuracy: 0.9472 - val_loss: 0.9878 - val_accuracy: 0.7970\n",
            "Epoch 8/20\n",
            "32/32 [==============================] - 1s 30ms/step - loss: 0.1979 - accuracy: 0.9536 - val_loss: 1.0002 - val_accuracy: 0.8130\n",
            "Epoch 9/20\n",
            "32/32 [==============================] - 1s 30ms/step - loss: 0.1688 - accuracy: 0.9550 - val_loss: 1.1605 - val_accuracy: 0.7740\n",
            "Epoch 10/20\n",
            "32/32 [==============================] - 1s 30ms/step - loss: 0.1702 - accuracy: 0.9549 - val_loss: 1.0703 - val_accuracy: 0.8100\n",
            "Epoch 11/20\n",
            "32/32 [==============================] - 1s 30ms/step - loss: 0.1273 - accuracy: 0.9639 - val_loss: 1.3122 - val_accuracy: 0.7750\n",
            "Epoch 12/20\n",
            "32/32 [==============================] - 1s 29ms/step - loss: 0.1320 - accuracy: 0.9595 - val_loss: 1.3851 - val_accuracy: 0.7420\n",
            "Epoch 13/20\n",
            "32/32 [==============================] - 1s 29ms/step - loss: 0.1120 - accuracy: 0.9647 - val_loss: 1.2435 - val_accuracy: 0.7860\n",
            "Epoch 14/20\n",
            "32/32 [==============================] - 1s 29ms/step - loss: 0.1124 - accuracy: 0.9640 - val_loss: 1.1432 - val_accuracy: 0.7840\n",
            "Epoch 15/20\n",
            "32/32 [==============================] - 1s 29ms/step - loss: 0.1138 - accuracy: 0.9605 - val_loss: 1.1809 - val_accuracy: 0.7910\n",
            "Epoch 16/20\n",
            "32/32 [==============================] - 1s 29ms/step - loss: 0.1017 - accuracy: 0.9623 - val_loss: 1.4089 - val_accuracy: 0.7530\n",
            "Epoch 17/20\n",
            "32/32 [==============================] - 1s 30ms/step - loss: 0.1110 - accuracy: 0.9609 - val_loss: 1.1978 - val_accuracy: 0.7930\n",
            "Epoch 18/20\n",
            "32/32 [==============================] - 1s 29ms/step - loss: 0.1035 - accuracy: 0.9608 - val_loss: 1.1497 - val_accuracy: 0.7910\n",
            "Epoch 19/20\n",
            "32/32 [==============================] - 1s 30ms/step - loss: 0.0916 - accuracy: 0.9628 - val_loss: 1.1778 - val_accuracy: 0.7950\n",
            "Epoch 20/20\n",
            "32/32 [==============================] - 1s 29ms/step - loss: 0.0975 - accuracy: 0.9588 - val_loss: 1.2667 - val_accuracy: 0.7840\n"
          ],
          "name": "stdout"
        }
      ]
    },
    {
      "cell_type": "code",
      "metadata": {
        "colab": {
          "base_uri": "https://localhost:8080/"
        },
        "id": "UdtV-baSSQLC",
        "outputId": "ae85fd44-5776-483f-9c56-795cd8ce58df"
      },
      "source": [
        "history.history.keys()"
      ],
      "execution_count": 33,
      "outputs": [
        {
          "output_type": "execute_result",
          "data": {
            "text/plain": [
              "dict_keys(['loss', 'accuracy', 'val_loss', 'val_accuracy'])"
            ]
          },
          "metadata": {
            "tags": []
          },
          "execution_count": 33
        }
      ]
    },
    {
      "cell_type": "code",
      "metadata": {
        "colab": {
          "base_uri": "https://localhost:8080/",
          "height": 295
        },
        "id": "VL-Krvt1SYEy",
        "outputId": "e9d166ca-74d8-48e4-ddb7-1f444fe6a827"
      },
      "source": [
        "# Plot history: Validation loss\n",
        "plt.plot(history.history['val_loss'])\n",
        "plt.title('Validation loss history')\n",
        "plt.ylabel('Loss value')\n",
        "plt.xlabel('No. epoch')\n",
        "plt.show()"
      ],
      "execution_count": 34,
      "outputs": [
        {
          "output_type": "display_data",
          "data": {
            "image/png": "[encoded data removed]",
            "text/plain": [
              "<Figure size 432x288 with 1 Axes>"
            ]
          },
          "metadata": {
            "tags": [],
            "needs_background": "light"
          }
        }
      ]
    },
    {
      "cell_type": "code",
      "metadata": {
        "colab": {
          "base_uri": "https://localhost:8080/",
          "height": 295
        },
        "id": "X1NcFL15ScIs",
        "outputId": "efbe4d4c-c6f8-4aeb-8503-ca999275ac51"
      },
      "source": [
        "# Plot history: Accuracy\n",
        "plt.plot(history.history['val_accuracy'])\n",
        "plt.title('Validation accuracy history')\n",
        "plt.ylabel('Accuracy value (%)')\n",
        "plt.xlabel('No. epoch')\n",
        "plt.show()"
      ],
      "execution_count": 35,
      "outputs": [
        {
          "output_type": "display_data",
          "data": {
            "image/png": "[encoded data removed]",
            "text/plain": [
              "<Figure size 432x288 with 1 Axes>"
            ]
          },
          "metadata": {
            "tags": [],
            "needs_background": "light"
          }
        }
      ]
    },
    {
      "cell_type": "code",
      "metadata": {
        "colab": {
          "base_uri": "https://localhost:8080/"
        },
        "id": "f6LHOXqiSi6P",
        "outputId": "b36b79a2-eed4-488c-9c6c-b954dc8ac230"
      },
      "source": [
        "results = model.evaluate(x_test, y_test)\n"
      ],
      "execution_count": 36,
      "outputs": [
        {
          "output_type": "stream",
          "text": [
            "71/71 [==============================] - 0s 3ms/step - loss: 1.5502 - accuracy: 0.7760\n"
          ],
          "name": "stdout"
        }
      ]
    }
  ]
}