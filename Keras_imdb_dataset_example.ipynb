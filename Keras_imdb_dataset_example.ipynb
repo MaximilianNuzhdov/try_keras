{
  "nbformat": 4,
  "nbformat_minor": 0,
  "metadata": {
    "colab": {
      "name": "Keras_imdb_dataset_example.ipynb",
      "provenance": [],
      "authorship_tag": "ABX9TyPr3TBV8EaPHMRzmMv1KwKD"
    },
    "kernelspec": {
      "name": "python3",
      "display_name": "Python 3"
    },
    "language_info": {
      "name": "python"
    }
  },
  "cells": [
    {
      "cell_type": "markdown",
      "metadata": {
        "id": "nCiIbvrkaoNp"
      },
      "source": [
        ""
      ]
    },
    {
      "cell_type": "code",
      "metadata": {
        "id": "0QKOMkzpbfvA"
      },
      "source": [
        "import numpy as np\n",
        "\n",
        "from keras import models\n",
        "from keras import layers \n",
        "\n",
        "from keras import optimizers\n",
        "from keras import losses\n",
        "from keras import metrics\n",
        "\n",
        "import matplotlib\n",
        "import matplotlib.pyplot as plt"
      ],
      "execution_count": 15,
      "outputs": []
    },
    {
      "cell_type": "code",
      "metadata": {
        "colab": {
          "base_uri": "https://localhost:8080/"
        },
        "id": "rCcov4KAaUbr",
        "outputId": "fd68debb-0f88-4aa7-a32c-bd2d0999818f"
      },
      "source": [
        "from keras.datasets import imdb\n",
        "\n",
        "(train_data, train_lables ), (test_data, test_labels) = imdb.load_data(num_words = 10000)\n"
      ],
      "execution_count": 2,
      "outputs": [
        {
          "output_type": "stream",
          "text": [
            "<string>:6: VisibleDeprecationWarning: Creating an ndarray from ragged nested sequences (which is a list-or-tuple of lists-or-tuples-or ndarrays with different lengths or shapes) is deprecated. If you meant to do this, you must specify 'dtype=object' when creating the ndarray\n",
            "/usr/local/lib/python3.7/dist-packages/tensorflow/python/keras/datasets/imdb.py:159: VisibleDeprecationWarning: Creating an ndarray from ragged nested sequences (which is a list-or-tuple of lists-or-tuples-or ndarrays with different lengths or shapes) is deprecated. If you meant to do this, you must specify 'dtype=object' when creating the ndarray\n",
            "  x_train, y_train = np.array(xs[:idx]), np.array(labels[:idx])\n",
            "/usr/local/lib/python3.7/dist-packages/tensorflow/python/keras/datasets/imdb.py:160: VisibleDeprecationWarning: Creating an ndarray from ragged nested sequences (which is a list-or-tuple of lists-or-tuples-or ndarrays with different lengths or shapes) is deprecated. If you meant to do this, you must specify 'dtype=object' when creating the ndarray\n",
            "  x_test, y_test = np.array(xs[idx:]), np.array(labels[idx:])\n"
          ],
          "name": "stderr"
        }
      ]
    },
    {
      "cell_type": "code",
      "metadata": {
        "colab": {
          "base_uri": "https://localhost:8080/"
        },
        "id": "eV97EtXname9",
        "outputId": "d066652f-039c-445b-c63f-4d3c9ba7e373"
      },
      "source": [
        "max([max(sequence) for sequence in train_data])"
      ],
      "execution_count": 3,
      "outputs": [
        {
          "output_type": "execute_result",
          "data": {
            "text/plain": [
              "9999"
            ]
          },
          "metadata": {
            "tags": []
          },
          "execution_count": 3
        }
      ]
    },
    {
      "cell_type": "code",
      "metadata": {
        "colab": {
          "base_uri": "https://localhost:8080/"
        },
        "id": "cXrXJ2SocCKc",
        "outputId": "860a6e30-fc17-4981-9b4a-1833ad3c49ac"
      },
      "source": [
        "word_index = imdb.get_word_index()\n",
        "reverse_word_index = dict(\n",
        "    [(value, key) for (key, value) in word_index.items()]\n",
        ")\n",
        "decoded_review = ' '.join(\n",
        "    [reverse_word_index.get(i-3, '?') for i in train_data[0]]\n",
        ")\n",
        "print (decoded_review)"
      ],
      "execution_count": 4,
      "outputs": [
        {
          "output_type": "stream",
          "text": [
            "? this film was just brilliant casting location scenery story direction everyone's really suited the part they played and you could just imagine being there robert ? is an amazing actor and now the same being director ? father came from the same scottish island as myself so i loved the fact there was a real connection with this film the witty remarks throughout the film were great it was just brilliant so much that i bought the film as soon as it was released for ? and would recommend it to everyone to watch and the fly fishing was amazing really cried at the end it was so sad and you know what they say if you cry at a film it must have been good and this definitely was also ? to the two little boy's that played the ? of norman and paul they were just brilliant children are often left out of the ? list i think because the stars that play them all grown up are such a big profile for the whole film but these children are amazing and should be praised for what they have done don't you think the whole story was so lovely because it was true and was someone's life after all that was shared with us all\n"
          ],
          "name": "stdout"
        }
      ]
    },
    {
      "cell_type": "code",
      "metadata": {
        "id": "xjFwr8IXc8D0"
      },
      "source": [
        "def vectorize_sequences (sequences, dim = 10000):\n",
        "  results = np.zeros((len(sequences), dim))\n",
        "  for i, seq in enumerate (sequences):\n",
        "    results[i, seq] = 1\n",
        "  return results\n"
      ],
      "execution_count": 5,
      "outputs": []
    },
    {
      "cell_type": "code",
      "metadata": {
        "id": "hS7Lp5OueBPj"
      },
      "source": [
        "x_train = vectorize_sequences(train_data)\n",
        "x_test = vectorize_sequences (test_data)\n",
        "\n",
        "y_train = np.asarray(train_lables).astype('float32')\n",
        "y_test = np.asarray(test_labels).astype('float32')"
      ],
      "execution_count": 6,
      "outputs": []
    },
    {
      "cell_type": "code",
      "metadata": {
        "colab": {
          "base_uri": "https://localhost:8080/"
        },
        "id": "VUOfjCj6epkA",
        "outputId": "3927c341-4d2d-4b89-e0a9-257d243bbaba"
      },
      "source": [
        "x_train[0]"
      ],
      "execution_count": 7,
      "outputs": [
        {
          "output_type": "execute_result",
          "data": {
            "text/plain": [
              "array([0., 1., 1., ..., 0., 0., 0.])"
            ]
          },
          "metadata": {
            "tags": []
          },
          "execution_count": 7
        }
      ]
    },
    {
      "cell_type": "code",
      "metadata": {
        "id": "-KDyMIF2ew-k"
      },
      "source": [
        "model = models.Sequential()\n",
        "model.add(layers.Dense(16, activation='relu', input_shape = (10000,)))\n",
        "model.add(layers.Dense(32, activation='tanh'))\n",
        "model.add(layers.Dense(16, activation='relu'))\n",
        "model.add(layers.Dense(1, activation='sigmoid'))\n",
        "\n",
        "model.summary()\n",
        "\n"
      ],
      "execution_count": 8,
      "outputs": []
    },
    {
      "cell_type": "code",
      "metadata": {
        "id": "91cly9VOgriT"
      },
      "source": [
        "x_val = x_train[:10000]\n",
        "y_val = y_train[:10000]\n",
        "\n",
        "partial_x_train = x_train[10000:]\n",
        "partial_y_train = y_train[10000:]\n"
      ],
      "execution_count": 9,
      "outputs": []
    },
    {
      "cell_type": "code",
      "metadata": {
        "colab": {
          "base_uri": "https://localhost:8080/"
        },
        "id": "2eniIJ5jib9F",
        "outputId": "00c80e46-a28b-4ec6-87ba-bee7af816b66"
      },
      "source": [
        "x_val[0]"
      ],
      "execution_count": 10,
      "outputs": [
        {
          "output_type": "execute_result",
          "data": {
            "text/plain": [
              "array([0., 1., 1., ..., 0., 0., 0.])"
            ]
          },
          "metadata": {
            "tags": []
          },
          "execution_count": 10
        }
      ]
    },
    {
      "cell_type": "code",
      "metadata": {
        "id": "N0d0-lhDfiiA"
      },
      "source": [
        "#model.compile(optimizer='rmsprop', loss='binary_crossentropy', metrics=['accuracy'])\n",
        "\n",
        "model.compile(optimizer=optimizers.RMSprop(lr=0.001),\n",
        "              loss=losses.mse,\n",
        "              metrics=[metrics.binary_accuracy]\n",
        "              )\n"
      ],
      "execution_count": 11,
      "outputs": []
    },
    {
      "cell_type": "code",
      "metadata": {
        "colab": {
          "base_uri": "https://localhost:8080/"
        },
        "id": "SH_PMqtOhKFc",
        "outputId": "03033bc6-7eb3-48d0-e803-901546c01dea"
      },
      "source": [
        "history = model.fit(partial_x_train,\n",
        "                    partial_y_train,\n",
        "                    epochs = 20,\n",
        "                    batch_size = 512,\n",
        "                    validation_data = (x_val,y_val)\n",
        "                    )"
      ],
      "execution_count": 12,
      "outputs": [
        {
          "output_type": "stream",
          "text": [
            "Epoch 1/20\n",
            "30/30 [==============================] - 2s 49ms/step - loss: 0.2013 - binary_accuracy: 0.6979 - val_loss: 0.1170 - val_binary_accuracy: 0.8525\n",
            "Epoch 2/20\n",
            "30/30 [==============================] - 1s 24ms/step - loss: 0.0879 - binary_accuracy: 0.9021 - val_loss: 0.0867 - val_binary_accuracy: 0.8868\n",
            "Epoch 3/20\n",
            "30/30 [==============================] - 1s 25ms/step - loss: 0.0542 - binary_accuracy: 0.9392 - val_loss: 0.0864 - val_binary_accuracy: 0.8817\n",
            "Epoch 4/20\n",
            "30/30 [==============================] - 1s 24ms/step - loss: 0.0403 - binary_accuracy: 0.9549 - val_loss: 0.0844 - val_binary_accuracy: 0.8855\n",
            "Epoch 5/20\n",
            "30/30 [==============================] - 1s 25ms/step - loss: 0.0290 - binary_accuracy: 0.9676 - val_loss: 0.0895 - val_binary_accuracy: 0.8813\n",
            "Epoch 6/20\n",
            "30/30 [==============================] - 1s 24ms/step - loss: 0.0201 - binary_accuracy: 0.9789 - val_loss: 0.0907 - val_binary_accuracy: 0.8791\n",
            "Epoch 7/20\n",
            "30/30 [==============================] - 1s 26ms/step - loss: 0.0171 - binary_accuracy: 0.9826 - val_loss: 0.0994 - val_binary_accuracy: 0.8699\n",
            "Epoch 8/20\n",
            "30/30 [==============================] - 1s 25ms/step - loss: 0.0141 - binary_accuracy: 0.9863 - val_loss: 0.0999 - val_binary_accuracy: 0.8728\n",
            "Epoch 9/20\n",
            "30/30 [==============================] - 1s 25ms/step - loss: 0.0103 - binary_accuracy: 0.9893 - val_loss: 0.1000 - val_binary_accuracy: 0.8746\n",
            "Epoch 10/20\n",
            "30/30 [==============================] - 1s 25ms/step - loss: 0.0069 - binary_accuracy: 0.9934 - val_loss: 0.1022 - val_binary_accuracy: 0.8743\n",
            "Epoch 11/20\n",
            "30/30 [==============================] - 1s 25ms/step - loss: 0.0050 - binary_accuracy: 0.9955 - val_loss: 0.1044 - val_binary_accuracy: 0.8726\n",
            "Epoch 12/20\n",
            "30/30 [==============================] - 1s 26ms/step - loss: 0.0088 - binary_accuracy: 0.9900 - val_loss: 0.1050 - val_binary_accuracy: 0.8726\n",
            "Epoch 13/20\n",
            "30/30 [==============================] - 1s 25ms/step - loss: 0.0043 - binary_accuracy: 0.9959 - val_loss: 0.1130 - val_binary_accuracy: 0.8645\n",
            "Epoch 14/20\n",
            "30/30 [==============================] - 1s 25ms/step - loss: 0.0065 - binary_accuracy: 0.9927 - val_loss: 0.1087 - val_binary_accuracy: 0.8710\n",
            "Epoch 15/20\n",
            "30/30 [==============================] - 1s 26ms/step - loss: 0.0033 - binary_accuracy: 0.9967 - val_loss: 0.1091 - val_binary_accuracy: 0.8719\n",
            "Epoch 16/20\n",
            "30/30 [==============================] - 1s 25ms/step - loss: 0.0027 - binary_accuracy: 0.9974 - val_loss: 0.1427 - val_binary_accuracy: 0.8384\n",
            "Epoch 17/20\n",
            "30/30 [==============================] - 1s 25ms/step - loss: 0.0068 - binary_accuracy: 0.9913 - val_loss: 0.1113 - val_binary_accuracy: 0.8696\n",
            "Epoch 18/20\n",
            "30/30 [==============================] - 1s 26ms/step - loss: 0.0025 - binary_accuracy: 0.9974 - val_loss: 0.1121 - val_binary_accuracy: 0.8690\n",
            "Epoch 19/20\n",
            "30/30 [==============================] - 1s 27ms/step - loss: 0.0045 - binary_accuracy: 0.9950 - val_loss: 0.1129 - val_binary_accuracy: 0.8677\n",
            "Epoch 20/20\n",
            "30/30 [==============================] - 1s 25ms/step - loss: 0.0020 - binary_accuracy: 0.9980 - val_loss: 0.1133 - val_binary_accuracy: 0.8683\n"
          ],
          "name": "stdout"
        }
      ]
    },
    {
      "cell_type": "code",
      "metadata": {
        "id": "aC84RKi1j2hx"
      },
      "source": [
        "print(np.mean(results.history[\"val_acc\"]))"
      ],
      "execution_count": 12,
      "outputs": []
    },
    {
      "cell_type": "code",
      "metadata": {
        "colab": {
          "base_uri": "https://localhost:8080/"
        },
        "id": "IBV704373G-u",
        "outputId": "d9540ea6-1acc-44b9-82b3-e07a3f50fb37"
      },
      "source": [
        "history.history.keys()"
      ],
      "execution_count": 21,
      "outputs": [
        {
          "output_type": "execute_result",
          "data": {
            "text/plain": [
              "dict_keys(['loss', 'binary_accuracy', 'val_loss', 'val_binary_accuracy'])"
            ]
          },
          "metadata": {
            "tags": []
          },
          "execution_count": 21
        }
      ]
    },
    {
      "cell_type": "code",
      "metadata": {
        "colab": {
          "base_uri": "https://localhost:8080/",
          "height": 295
        },
        "id": "IzNvS_ZK2q0P",
        "outputId": "271a89b5-c499-401b-b393-63b85b58b33f"
      },
      "source": [
        "# Plot history: Validation loss\n",
        "plt.plot(history.history['val_loss'])\n",
        "plt.title('Validation loss history')\n",
        "plt.ylabel('Loss value')\n",
        "plt.xlabel('No. epoch')\n",
        "plt.show()"
      ],
      "execution_count": 16,
      "outputs": [
        {
          "output_type": "display_data",
          "data": {
            "image/png": "[encoded data removed]",
            "text/plain": [
              "<Figure size 432x288 with 1 Axes>"
            ]
          },
          "metadata": {
            "tags": [],
            "needs_background": "light"
          }
        }
      ]
    },
    {
      "cell_type": "code",
      "metadata": {
        "colab": {
          "base_uri": "https://localhost:8080/",
          "height": 295
        },
        "id": "Msu9gBIv2sZJ",
        "outputId": "9f768ef5-7967-477f-f7e0-ad3bb058353f"
      },
      "source": [
        "# Plot history: Accuracy\n",
        "plt.plot(history.history['val_binary_accuracy'])\n",
        "plt.title('Validation accuracy history')\n",
        "plt.ylabel('Accuracy value (%)')\n",
        "plt.xlabel('No. epoch')\n",
        "plt.show()"
      ],
      "execution_count": 22,
      "outputs": [
        {
          "output_type": "display_data",
          "data": {
            "image/png": "[encoded data removed]",
            "text/plain": [
              "<Figure size 432x288 with 1 Axes>"
            ]
          },
          "metadata": {
            "tags": [],
            "needs_background": "light"
          }
        }
      ]
    },
    {
      "cell_type": "code",
      "metadata": {
        "colab": {
          "base_uri": "https://localhost:8080/"
        },
        "id": "arI3cCsOit9o",
        "outputId": "d71c2327-4f42-4bcb-c4bc-dedf33c09288"
      },
      "source": [
        "results = model.evaluate(x_test, y_test)\n"
      ],
      "execution_count": 13,
      "outputs": [
        {
          "output_type": "stream",
          "text": [
            "782/782 [==============================] - 1s 2ms/step - loss: 0.1263 - binary_accuracy: 0.8539\n"
          ],
          "name": "stdout"
        }
      ]
    },
    {
      "cell_type": "code",
      "metadata": {
        "colab": {
          "base_uri": "https://localhost:8080/"
        },
        "id": "irxxfhHexFzx",
        "outputId": "a197a88f-5927-47a5-a522-baa6819f30e8"
      },
      "source": [
        "model.predict(x_test)"
      ],
      "execution_count": 14,
      "outputs": [
        {
          "output_type": "execute_result",
          "data": {
            "text/plain": [
              "array([[0.0043658 ],\n",
              "       [0.99994385],\n",
              "       [0.9884156 ],\n",
              "       ...,\n",
              "       [0.00287014],\n",
              "       [0.00317597],\n",
              "       [0.9790634 ]], dtype=float32)"
            ]
          },
          "metadata": {
            "tags": []
          },
          "execution_count": 14
        }
      ]
    }
  ]
}